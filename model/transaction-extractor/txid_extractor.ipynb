{
 "cells": [
  {
   "cell_type": "code",
   "execution_count": 1,
   "metadata": {},
   "outputs": [],
   "source": [
    "from bitcoinrpc.authproxy import AuthServiceProxy\n",
    "\n",
    "\n",
    "class BitcoinClient:\n",
    "    def __init__(self, host=\"127.0.0.1\", username=\"admin\", password=\"admin\"):\n",
    "        self.rpc = AuthServiceProxy(\n",
    "            f\"http://{username}:{password}@{host}:8332\", timeout=120\n",
    "        )\n",
    "\n",
    "    def transaction_by_id(self, txid):\n",
    "        return self.rpc.getrawtransaction(txid, True)\n",
    "\n",
    "    def blockcount(self):\n",
    "        return self.rpc.getblockcount()\n",
    "\n",
    "    def getblock(self, blockhash):\n",
    "        return self.rpc.getblock(blockhash, 1)\n",
    "\n",
    "    def blockhash_by_height(self, height):\n",
    "        return self.rpc.getblockhash(height)\n",
    "\n",
    "    def blocks(self, rng):\n",
    "        \"\"\"Returns a list of block hashes starting from the current block\n",
    "        and going back in time by the range specified\"\"\"\n",
    "        blockcount = self.blockcount()\n",
    "        return [self.blockhash_by_height(blockcount - i) for i in range(rng)]\n",
    "\n",
    "    def block_range(self, start, finish):\n",
    "        return [self.blockhash_by_height(i) for i in range(start, finish + 1)]\n"
   ]
  },
  {
   "cell_type": "code",
   "execution_count": 2,
   "metadata": {},
   "outputs": [],
   "source": [
    "client = BitcoinClient()\n",
    "blockids = client.block_range(400000, 500000)"
   ]
  },
  {
   "cell_type": "code",
   "execution_count": 3,
   "metadata": {},
   "outputs": [
    {
     "name": "stdout",
     "output_type": "stream",
     "text": [
      "round 0\n",
      "round 1000\n",
      "round 2000\n",
      "round 3000\n",
      "round 4000\n",
      "round 5000\n",
      "round 6000\n",
      "round 7000\n",
      "round 8000\n",
      "round 9000\n",
      "round 10000\n",
      "round 11000\n",
      "round 12000\n",
      "round 13000\n",
      "round 14000\n",
      "round 15000\n",
      "round 16000\n",
      "round 17000\n",
      "round 18000\n",
      "round 19000\n",
      "round 20000\n",
      "round 21000\n",
      "round 22000\n",
      "round 23000\n",
      "round 24000\n",
      "round 25000\n",
      "round 26000\n",
      "round 27000\n",
      "round 28000\n",
      "round 29000\n",
      "round 30000\n",
      "round 31000\n",
      "round 32000\n",
      "round 33000\n",
      "round 34000\n",
      "round 35000\n",
      "round 36000\n",
      "round 37000\n",
      "round 38000\n",
      "round 39000\n",
      "round 40000\n",
      "round 41000\n",
      "round 42000\n",
      "round 43000\n",
      "round 44000\n",
      "round 45000\n",
      "round 46000\n",
      "round 47000\n",
      "round 48000\n",
      "round 49000\n",
      "round 50000\n",
      "round 51000\n",
      "round 52000\n",
      "round 53000\n",
      "round 54000\n",
      "round 55000\n",
      "round 56000\n",
      "round 57000\n",
      "round 58000\n",
      "round 59000\n",
      "round 60000\n",
      "round 61000\n",
      "round 62000\n",
      "round 63000\n",
      "round 64000\n",
      "round 65000\n",
      "round 66000\n",
      "round 67000\n",
      "round 68000\n",
      "round 69000\n",
      "round 70000\n",
      "round 71000\n",
      "round 72000\n",
      "round 73000\n",
      "round 74000\n",
      "round 75000\n",
      "round 76000\n",
      "round 77000\n",
      "round 78000\n",
      "round 79000\n",
      "round 80000\n",
      "round 81000\n",
      "round 82000\n",
      "round 83000\n",
      "round 84000\n",
      "round 85000\n",
      "round 86000\n",
      "round 87000\n",
      "round 88000\n",
      "round 89000\n",
      "round 90000\n",
      "round 91000\n",
      "round 92000\n",
      "round 93000\n",
      "round 94000\n",
      "round 95000\n",
      "round 96000\n",
      "round 97000\n",
      "round 98000\n",
      "round 99000\n",
      "round 100000\n"
     ]
    }
   ],
   "source": [
    "transaction_list = []\n",
    "i = 0\n",
    "for blockid in blockids:\n",
    "    if i % 1000 == 0:\n",
    "        print(f'round {i}')\n",
    "    i+=1\n",
    "    block = client.getblock(blockid)\n",
    "    transaction_list += block['tx']"
   ]
  },
  {
   "cell_type": "code",
   "execution_count": 7,
   "metadata": {},
   "outputs": [],
   "source": [
    "with open('transactions.txt', 'w') as f:\n",
    "    for transaction in transaction_list:\n",
    "        f.write(f'{transaction}\\n')"
   ]
  },
  {
   "cell_type": "code",
   "execution_count": 8,
   "metadata": {},
   "outputs": [],
   "source": [
    "with open('sample-transactions.txt', 'w') as f:\n",
    "    for transaction in transaction_list[:1000]:\n",
    "        f.write(f'{transaction}\\n')"
   ]
  },
  {
   "cell_type": "code",
   "execution_count": 9,
   "metadata": {},
   "outputs": [
    {
     "data": {
      "text/plain": [
       "171118933"
      ]
     },
     "execution_count": 9,
     "metadata": {},
     "output_type": "execute_result"
    }
   ],
   "source": [
    "transaction_list.__len__()"
   ]
  }
 ],
 "metadata": {
  "kernelspec": {
   "display_name": "mcgill-ml",
   "language": "python",
   "name": "python3"
  },
  "language_info": {
   "codemirror_mode": {
    "name": "ipython",
    "version": 3
   },
   "file_extension": ".py",
   "mimetype": "text/x-python",
   "name": "python",
   "nbconvert_exporter": "python",
   "pygments_lexer": "ipython3",
   "version": "3.11.5"
  }
 },
 "nbformat": 4,
 "nbformat_minor": 2
}
